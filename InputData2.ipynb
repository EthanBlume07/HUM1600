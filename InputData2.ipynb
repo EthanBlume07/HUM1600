{
  "nbformat": 4,
  "nbformat_minor": 0,
  "metadata": {
    "colab": {
      "provenance": []
    },
    "kernelspec": {
      "name": "python3",
      "display_name": "Python 3"
    },
    "language_info": {
      "name": "python"
    }
  },
  "cells": [
    {
      "cell_type": "code",
      "execution_count": null,
      "metadata": {
        "id": "JIHqB9Xt-TL_"
      },
      "outputs": [],
      "source": [
        "# Ethan Blume\n",
        "# 1/26/2024\n",
        "# Data Structures are ways data is stored so that it can be easily found and accessed.\n",
        "# Mutable means it can be changed, wherears immutable means it can't. Numbers are an example of something Mutable, names would be immutable."
      ]
    },
    {
      "cell_type": "code",
      "source": [
        "list= [3,6,2,4,5]\n",
        "print(list)\n",
        "print(list[2])\n",
        "print(len(list))\n",
        "print(sum(list[0]*[2]))"
      ],
      "metadata": {
        "colab": {
          "base_uri": "https://localhost:8080/"
        },
        "id": "GC6wOvQ4_qt7",
        "outputId": "1852f501-b668-43e4-9cf8-ee84a6847ab5"
      },
      "execution_count": null,
      "outputs": [
        {
          "output_type": "stream",
          "name": "stdout",
          "text": [
            "[3, 6, 2, 4, 5]\n",
            "2\n",
            "5\n",
            "6\n"
          ]
        }
      ]
    },
    {
      "cell_type": "code",
      "source": [
        "list=[\"play\", \"walk\", \"lollygag\", \"joke\", \"laugh\", \"cry\", \"sing\", \"dance\", \"move\", \"write\"]\n",
        "print(list[9].capitalize(), list[8], list[7], list[6], list[5], list[4], list[3], list[2], list[1], list[0], end=\".\")"
      ],
      "metadata": {
        "colab": {
          "base_uri": "https://localhost:8080/"
        },
        "id": "zWA4BBneBXtU",
        "outputId": "b841fd4b-aa02-4856-8a35-b55646f22a9e"
      },
      "execution_count": null,
      "outputs": [
        {
          "output_type": "stream",
          "name": "stdout",
          "text": [
            "Write move dance sing cry laugh joke lollygag walk play."
          ]
        }
      ]
    },
    {
      "cell_type": "code",
      "source": [
        "list=[10.3, 99.5343, 32.5, 885.91209, 6.1, 334.2, 90.875, 5601.9, 9.0000002, 1.2]\n",
        "tot=list[0]+list[1]+list[2]+list[3]+list[4]+list[5]+list[6]+list[7]+list[8]+list[9]\n",
        "print('The total of all numbers in the list is' ,tot, end=\".\")"
      ],
      "metadata": {
        "colab": {
          "base_uri": "https://localhost:8080/"
        },
        "id": "1GoZ-0kATVZm",
        "outputId": "ec9ab0f3-a046-497f-e1b7-805f89d9c31b"
      },
      "execution_count": null,
      "outputs": [
        {
          "output_type": "stream",
          "name": "stdout",
          "text": [
            "The total of all numbers in the list is 7071.521390199999."
          ]
        }
      ]
    },
    {
      "cell_type": "code",
      "source": [
        "list=[\"Volkswagen\", \"Jetta\", \"2011\", \"Grey\", \"30000\", \"True\"]\n",
        "print(list[0], list[1] + \"\\n\" + list[2] + \"\\n\" + list[3] + \"\\n\" + list[4] + \"\\n\" + list[5])"
      ],
      "metadata": {
        "colab": {
          "base_uri": "https://localhost:8080/"
        },
        "id": "kUu2XogLWuxI",
        "outputId": "8037e899-989f-4bfe-9c09-f9cd7458994b"
      },
      "execution_count": null,
      "outputs": [
        {
          "output_type": "stream",
          "name": "stdout",
          "text": [
            "Volkswagen Jetta\n",
            "2011\n",
            "Grey\n",
            "$30000\n",
            "True\n"
          ]
        }
      ]
    },
    {
      "cell_type": "code",
      "source": [
        "diction={\n",
        "    \"Make\":\"Volkswagen\",\n",
        "         \"Model\":\"Jetta\",\n",
        "         \"Year\":\"2011\",\n",
        "         \"Color\":\"Grey\",\n",
        "         \"Price\":\"30000\",\n",
        "         \"Available\":\"True\"\n",
        "         }\n",
        "print(\"Make: \" +diction['Make']+ \"\\nModel: \" +diction['Model']+ \"\\nYear: \" +diction['Year']+ \"\\nColor: \"+ diction['Color']+ \"\\nPrice: \"+ diction['Price']+ \"\\nAvailable: \"+ diction['Available'])"
      ],
      "metadata": {
        "colab": {
          "base_uri": "https://localhost:8080/"
        },
        "id": "5rp_N9GPYJZi",
        "outputId": "d5c8ef9e-23fd-412c-c2e5-c57cb125d479"
      },
      "execution_count": null,
      "outputs": [
        {
          "output_type": "stream",
          "name": "stdout",
          "text": [
            "Make: Volkswagen\n",
            "Model: Jetta\n",
            "Year: 2011\n",
            "Color: Grey\n",
            "Price: 30000\n",
            "Available: True\n"
          ]
        }
      ]
    }
  ]
}