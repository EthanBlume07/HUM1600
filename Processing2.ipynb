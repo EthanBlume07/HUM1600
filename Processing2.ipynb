{
  "nbformat": 4,
  "nbformat_minor": 0,
  "metadata": {
    "colab": {
      "provenance": []
    },
    "kernelspec": {
      "name": "python3",
      "display_name": "Python 3"
    },
    "language_info": {
      "name": "python"
    }
  },
  "cells": [
    {
      "cell_type": "code",
      "execution_count": null,
      "metadata": {
        "id": "gkqinaOMY209"
      },
      "outputs": [],
      "source": [
        "# Ethan Blume\n",
        "# 2/25/2024\n",
        "# Built in functions are built into the coding language, in our case Python. Programmer defined functions are functions that we can either write ourself or download from various libraries.\n",
        "# A void and a value function are very similar, with the main difference being that a value function contains a return statement."
      ]
    },
    {
      "cell_type": "code",
      "source": [
        "# Problem 1\n",
        "lst = [23, 56, 19, 52, 87, 88, 50, 34, 22, 61, 52, 43, 25, 76, 77, 94]\n",
        "print(len(lst))\n",
        "print(max(lst))\n",
        "print(min(lst))\n",
        "print(sum(lst))"
      ],
      "metadata": {
        "colab": {
          "base_uri": "https://localhost:8080/"
        },
        "id": "2oxpevxfZm1R",
        "outputId": "be113d54-cad5-4c0e-a58a-3a47e91f7858"
      },
      "execution_count": null,
      "outputs": [
        {
          "output_type": "stream",
          "name": "stdout",
          "text": [
            "16\n",
            "94\n",
            "19\n",
            "859\n"
          ]
        }
      ]
    },
    {
      "cell_type": "code",
      "source": [
        "# Problem 2\n",
        "first_name = input(\"Please enter your first name: \")\n",
        "last_name = input(\"Please enter your last name: \")\n",
        "print(first_name, last_name, sep=\" \")\n",
        "print(last_name, first_name, sep=\", \")\n",
        "uppercase = (first_name + \" \" + last_name).upper()\n",
        "print(uppercase)\n",
        "for s in first_name:\n",
        "  print(s, end=\" \")\n",
        "for s in last_name:\n",
        "  print(s, end=\" \")"
      ],
      "metadata": {
        "colab": {
          "base_uri": "https://localhost:8080/"
        },
        "id": "5nMkPeBdbNZB",
        "outputId": "87fa088c-f1fa-497c-ee0e-877f80bc8280"
      },
      "execution_count": null,
      "outputs": [
        {
          "output_type": "stream",
          "name": "stdout",
          "text": [
            "Please enter your first name: Ethan\n",
            "Please enter your last name: Blume\n",
            "Ethan Blume\n",
            "Blume, Ethan\n",
            "ETHAN BLUME\n",
            "E t h a n B l u m e "
          ]
        }
      ]
    },
    {
      "cell_type": "code",
      "source": [
        "# Problem 3\n",
        "import random\n",
        "import random\n",
        "\n",
        "dice = random.randint(1,6)\n",
        "guess = int(input(\"Guess the value of the dice roll: \"))\n",
        "while guess != dice:\n",
        "  guess = int(input(\"Guess again: \"))\n",
        "  if guess > 3:\n",
        "    print(\"Better luck next time!\")\n",
        "    break\n",
        "else:\n",
        "  print(\"Congratulations! You guessed correctly!\")"
      ],
      "metadata": {
        "colab": {
          "base_uri": "https://localhost:8080/"
        },
        "id": "GAE5dy6xiZKq",
        "outputId": "22c1178a-76d9-4370-b6da-7547d12363e7"
      },
      "execution_count": null,
      "outputs": [
        {
          "name": "stdout",
          "output_type": "stream",
          "text": [
            "Guess the value of the dice roll: 2\n",
            "Guess again: 1\n"
          ]
        }
      ]
    }
  ]
}